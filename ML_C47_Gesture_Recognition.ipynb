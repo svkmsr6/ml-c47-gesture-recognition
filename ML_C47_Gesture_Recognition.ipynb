{
 "cells": [
  {
   "cell_type": "markdown",
   "metadata": {
    "id": "fD1Wy3O0zmJE"
   },
   "source": [
    "# Gesture Recognition\n",
    "In this group project, you are going to build a 3D Conv model that will be able to predict the 5 gestures correctly. Please import the following libraries to get started."
   ]
  },
  {
   "cell_type": "markdown",
   "metadata": {
    "id": "EbNPrF5M0ZJ0"
   },
   "source": [
    "We begin with mounting the Google Drive in order to fetch the training and validation data from the location"
   ]
  },
  {
   "cell_type": "code",
   "execution_count": 1,
   "metadata": {
    "id": "48yRRa-3zmJF"
   },
   "outputs": [],
   "source": [
    "import numpy as np\n",
    "import os\n",
    "import datetime\n",
    "import os"
   ]
  },
  {
   "cell_type": "code",
   "execution_count": 2,
   "metadata": {
    "id": "ejttTXf-7WS1"
   },
   "outputs": [],
   "source": [
    "from PIL import Image\n",
    "import cv2 as cv\n",
    "from cv2 import imread\n",
    "#from scipy.misc import imread, imresize\n",
    "import warnings\n",
    "warnings.filterwarnings(\"ignore\")"
   ]
  },
  {
   "cell_type": "markdown",
   "metadata": {
    "id": "nHvOnKjkzmJH"
   },
   "source": [
    "We set the random seed so that the results don't vary drastically."
   ]
  },
  {
   "cell_type": "code",
   "execution_count": 3,
   "metadata": {
    "id": "8LQSTqgszmJI"
   },
   "outputs": [],
   "source": [
    "np.random.seed(30)\n",
    "import random as rn\n",
    "rn.seed(30)\n",
    "from keras import backend as K\n",
    "import tensorflow as tf\n",
    "tf.random.set_seed(30)"
   ]
  },
  {
   "cell_type": "markdown",
   "metadata": {
    "id": "NMyV_evCzmJI"
   },
   "source": [
    "In this block, you read the folder names for training and validation. You also set the `batch_size` here. Note that you set the batch size in such a way that you are able to use the GPU in full capacity. You keep increasing the batch size until the machine throws an error."
   ]
  },
  {
   "cell_type": "code",
   "execution_count": 4,
   "metadata": {
    "id": "Yt8TKG78zmJJ"
   },
   "outputs": [],
   "source": [
    "# train_doc = np.random.permutation(open('/content/drive/MyDrive/ML_C47_Gesture_Recognition/Project_data/train.csv').readlines())\n",
    "# val_doc = np.random.permutation(open('/content/drive/MyDrive/ML_C47_Gesture_Recognition/Project_data/val.csv').readlines())\n",
    "train_doc = np.random.permutation(open('datasets/Project_data/train.csv').readlines())\n",
    "val_doc = np.random.permutation(open('datasets/Project_data/val.csv').readlines())\n",
    "batch_size = 50"
   ]
  },
  {
   "cell_type": "markdown",
   "metadata": {
    "id": "C63GKQFazmJK"
   },
   "source": [
    "## Generator\n",
    "This is one of the most important part of the code. The overall structure of the generator has been given. In the generator, you are going to preprocess the images as you have images of 2 different dimensions as well as create a batch of video frames. You have to experiment with `img_idx`, `y`,`z` and normalization such that you get high accuracy."
   ]
  },
  {
   "cell_type": "code",
   "execution_count": 17,
   "metadata": {
    "id": "cTdDLTRiWIp4"
   },
   "outputs": [],
   "source": [
    "# selecting alternate frames from 2 to 30.\n",
    "img_seq_idx = range(2,30,2)\n",
    "# image dimensions\n",
    "val_y, val_z = 120, 120"
   ]
  },
  {
   "cell_type": "code",
   "execution_count": 18,
   "metadata": {
    "id": "aXcXEMRCzmJK"
   },
   "outputs": [],
   "source": [
    "def generator(source_path, folder_list, batch_size):\n",
    "    print( 'Source path = ', source_path, '; batch size =', batch_size)\n",
    "    img_idx = img_seq_idx\n",
    "    x = len(img_idx)\n",
    "    y, z = val_y, val_z\n",
    "    while True:\n",
    "        t = np.random.permutation(folder_list)\n",
    "#         if (len(t)%batch_size) == 0:\n",
    "#             num_batches = int(len(t)/batch_size)\n",
    "#         else:\n",
    "        num_batches = len(t)//batch_size\n",
    "        for batch in range(num_batches): # we iterate over the number of batches\n",
    "            batch_data = np.zeros((batch_size,x, y, z, 3)) # x is the number of images you use for each video, (y,z) is the final size of the input images and 3 is the number of channels RGB\n",
    "            batch_labels = np.zeros((batch_size,5)) # batch_labels is the one hot representation of the output\n",
    "            for folder in range(batch_size): # iterate over the batch_size\n",
    "                imgs = os.listdir(source_path+'/'+ t[folder + (batch*batch_size)].split(';')[0]) # read all the images in the folder\n",
    "                for idx,item in enumerate(img_idx): #  Iterate iver the frames/images of a folder to read them in\n",
    "                    image = imread(source_path+'/'+ t[folder + (batch*batch_size)].strip().split(';')[0]+'/'+imgs[item]).astype(np.float32)\n",
    "\n",
    "                    #crop the images and resize them. Note that the images are of 2 different shape\n",
    "                    #and the conv3D will throw error if the inputs in a batch have different shapes\n",
    "                    # One way of implementing this is turning the images into squares and resizing them\n",
    "                    longer_side = image.shape[1] if  image.shape[1] > image.shape[0] else image.shape[0];\n",
    "                    shorter_side = image.shape[1] if  image.shape[1] < image.shape[0] else image.shape[0];\n",
    "                    diff_px = longer_side - shorter_side\n",
    "                    crop_start = diff_px//2\n",
    "                    crop_end = crop_start + shorter_side\n",
    "                    image = image[:, crop_start:crop_end]\n",
    "\n",
    "                    resized_im = cv.resize(image, dsize=(y,z))\n",
    "\n",
    "\n",
    "                    batch_data[folder,idx,:,:,0] = resized_im[:,:,0]/255 #normalise and feed in the image\n",
    "                    batch_data[folder,idx,:,:,1] = resized_im[:,:,1]/255 #normalise and feed in the image\n",
    "                    batch_data[folder,idx,:,:,2] = resized_im[:,:,2]/255 #normalise and feed in the image\n",
    "\n",
    "                batch_labels[folder, int(t[folder + (batch*batch_size)].strip().split(';')[2])] = 1\n",
    "            yield batch_data, batch_labels #you yield the batch_data and the batch_labels, remember what does yield do\n",
    "\n",
    "\n",
    "        # write the code for the remaining data points which are left after full batches\n"
   ]
  },
  {
   "cell_type": "markdown",
   "metadata": {
    "id": "3__RM9hQzmJM"
   },
   "source": [
    "Note here that a video is represented above in the generator as (number of images, height, width, number of channels). Take this into consideration while creating the model architecture."
   ]
  },
  {
   "cell_type": "code",
   "execution_count": 47,
   "metadata": {
    "colab": {
     "base_uri": "https://localhost:8080/"
    },
    "id": "EfSwVl4rzmJN",
    "outputId": "6b4bde20-5997-42f0-d4d9-5f114d952af5"
   },
   "outputs": [
    {
     "name": "stdout",
     "output_type": "stream",
     "text": [
      "# training sequences = 663\n",
      "# validation sequences = 100\n",
      "# epochs = 50\n"
     ]
    }
   ],
   "source": [
    "curr_dt_time = datetime.datetime.now()\n",
    "# train_path = '/content/drive/MyDrive/ML_C47_Gesture_Recognition/Project_data/train'\n",
    "# val_path = '/content/drive/MyDrive/ML_C47_Gesture_Recognition/Project_data/val'\n",
    "train_path = 'datasets/Project_data/train'\n",
    "val_path = 'datasets/Project_data/val'\n",
    "num_train_sequences = len(train_doc)\n",
    "print('# training sequences =', num_train_sequences)\n",
    "num_val_sequences = len(val_doc)\n",
    "print('# validation sequences =', num_val_sequences)\n",
    "num_epochs = 50# choose the number of epochs\n",
    "print ('# epochs =', num_epochs)"
   ]
  },
  {
   "cell_type": "markdown",
   "metadata": {
    "id": "RTWTL1TazmJO"
   },
   "source": [
    "## Model Building\n",
    "Here you make the model using different functionalities that Keras provides. Remember to use `Conv3D` and `MaxPooling3D` and not `Conv2D` and `Maxpooling2D` for a 3D convolution model. You would want to use `TimeDistributed` while building a Conv2D + RNN model. Also remember that the last layer is the softmax. Design the network in such a way that the model is able to give good accuracy on the least number of parameters so that it can fit in the memory of the webcam."
   ]
  },
  {
   "cell_type": "markdown",
   "metadata": {
    "id": "qFthRym2fI4F"
   },
   "source": [
    "Importing necessary librarues and setting all the values"
   ]
  },
  {
   "cell_type": "code",
   "execution_count": 55,
   "metadata": {
    "id": "CkK7gve1zmJO"
   },
   "outputs": [],
   "source": [
    "from keras.models import Sequential, Model\n",
    "from keras.layers import Dense, GRU, Flatten, TimeDistributed, Flatten, BatchNormalization, Activation, Dropout, GlobalAveragePooling2D, GlobalAveragePooling3D, ConvLSTM2D\n",
    "from tensorflow.keras.layers import Dropout\n",
    "from keras.layers.convolutional import Conv2D, Conv3D, MaxPooling3D\n",
    "from keras.callbacks import ModelCheckpoint, ReduceLROnPlateau\n",
    "\n",
    "#input shape for the st layer\n",
    "input_shape = (len(img_seq_idx), val_y, val_z, 3)\n",
    "np.random.seed(30)"
   ]
  },
  {
   "cell_type": "markdown",
   "metadata": {
    "id": "lTCbPyHBQyMs"
   },
   "source": [
    "# Model 01"
   ]
  },
  {
   "cell_type": "code",
   "execution_count": 21,
   "metadata": {
    "id": "5xmKOAipQnmi"
   },
   "outputs": [],
   "source": [
    "# model1 = Sequential()\n",
    "# model1.add(Conv3D(16, kernel_size=3, activation='relu', input_shape=input_shape))\n",
    "# model1.add(MaxPooling3D(pool_size=2))\n",
    "\n",
    "# model1.add(Conv3D(32, kernel_size=3, activation='relu'))\n",
    "# model1.add(MaxPooling3D(pool_size=2))\n",
    "\n",
    "# model1.add(Flatten())\n",
    "# model1.add(Dense(128, activation='relu'))\n",
    "# model1.add(Dense(5, activation='softmax'))"
   ]
  },
  {
   "cell_type": "markdown",
   "metadata": {},
   "source": [
    "## Model 02"
   ]
  },
  {
   "cell_type": "code",
   "execution_count": 28,
   "metadata": {},
   "outputs": [],
   "source": [
    "# model2 = Sequential()\n",
    "\n",
    "# model2.add(Conv3D(32, kernel_size=3, activation='relu', input_shape=input_shape))\n",
    "# model2.add(Conv3D(64, kernel_size=3, activation='relu'))\n",
    "# model2.add(MaxPooling3D(pool_size=(2, 2, 2)))\n",
    "# model2.add(BatchNormalization())\n",
    "\n",
    "# model2.add(Conv3D(128, kernel_size=3, activation='relu'))\n",
    "# model2.add(MaxPooling3D(pool_size=(1, 2, 2)))\n",
    "# model2.add(BatchNormalization())\n",
    "\n",
    "# model2.add(Conv3D(256, kernel_size=(1, 3, 3), activation='relu'))\n",
    "# model2.add(MaxPooling3D(pool_size=(1, 2, 2)))\n",
    "# model2.add(BatchNormalization())\n",
    "\n",
    "# model2.add(Conv3D(512, kernel_size=(1, 3, 3), activation='relu'))\n",
    "# model2.add(Conv3D(512, kernel_size=(1, 3, 3), activation='relu'))\n",
    "# model2.add(MaxPooling3D(pool_size=(1, 2, 2)))\n",
    "# model2.add(BatchNormalization())\n",
    "\n",
    "# model2.add(Flatten())\n",
    "# model2.add(Dense(512, activation='relu'))\n",
    "# model2.add(BatchNormalization())\n",
    "# model2.add(Dense(5, activation='softmax'))"
   ]
  },
  {
   "cell_type": "markdown",
   "metadata": {},
   "source": [
    "## Model 03"
   ]
  },
  {
   "cell_type": "code",
   "execution_count": 35,
   "metadata": {},
   "outputs": [],
   "source": [
    "\n",
    "\n",
    "# model3 = Sequential()\n",
    "\n",
    "# model3.add(Conv3D(32, kernel_size=3, activation='relu', input_shape=input_shape))\n",
    "# model3.add(Conv3D(64, kernel_size=3, activation='relu'))\n",
    "# model3.add(MaxPooling3D(pool_size=(2, 2, 2)))\n",
    "# model3.add(BatchNormalization())\n",
    "# model3.add(Dropout(0.2))\n",
    "\n",
    "# model3.add(Conv3D(128, kernel_size=3, activation='relu'))\n",
    "# model3.add(MaxPooling3D(pool_size=(1, 2, 2)))\n",
    "# model3.add(BatchNormalization())\n",
    "# model3.add(Dropout(0.2))\n",
    "\n",
    "# model3.add(Conv3D(256, kernel_size=(1, 3, 3), activation='relu'))\n",
    "# model3.add(MaxPooling3D(pool_size=(1, 2, 2)))\n",
    "# model3.add(BatchNormalization())\n",
    "# model3.add(Dropout(0.2))\n",
    "\n",
    "# model3.add(Flatten())\n",
    "# model3.add(Dense(512, activation='relu'))\n",
    "# model3.add(BatchNormalization())\n",
    "# model3.add(Dense(5, activation='softmax'))"
   ]
  },
  {
   "cell_type": "markdown",
   "metadata": {},
   "source": [
    "## Model 04"
   ]
  },
  {
   "cell_type": "code",
   "execution_count": 42,
   "metadata": {},
   "outputs": [],
   "source": [
    "# model4 = Sequential()\n",
    "\n",
    "# model4.add(Conv3D(32, kernel_size=3, activation='relu', input_shape=input_shape))\n",
    "# model4.add(Conv3D(64, kernel_size=3, activation='relu'))\n",
    "# model4.add(MaxPooling3D(pool_size=(2, 2, 2)))\n",
    "# model4.add(BatchNormalization())\n",
    "# model4.add(Dropout(0.2))\n",
    "\n",
    "# model4.add(Conv3D(128, kernel_size=3, activation='relu'))\n",
    "# model4.add(MaxPooling3D(pool_size=(1, 2, 2)))\n",
    "# model4.add(BatchNormalization())\n",
    "# model4.add(Dropout(0.2))\n",
    "\n",
    "# model4.add(Conv3D(256, kernel_size=(1, 3, 3), activation='relu'))\n",
    "# model4.add(MaxPooling3D(pool_size=(1, 2, 2)))\n",
    "# model4.add(BatchNormalization())\n",
    "# model4.add(Dropout(0.2))\n",
    "\n",
    "# model4.add(GlobalAveragePooling3D())\n",
    "# model4.add(Dense(512, activation='relu'))\n",
    "# model4.add(BatchNormalization())\n",
    "# model4.add(Dense(5, activation='softmax'))\n"
   ]
  },
  {
   "cell_type": "markdown",
   "metadata": {},
   "source": [
    "## Model 05"
   ]
  },
  {
   "cell_type": "code",
   "execution_count": 56,
   "metadata": {},
   "outputs": [],
   "source": [
    "model5 = Sequential()\n",
    "model5.add(TimeDistributed(\n",
    "    Conv2D(8, (3,3), activation='relu'), input_shape=input_shape)\n",
    ")\n",
    "model5.add(BatchNormalization())\n",
    "model5.add(TimeDistributed(\n",
    "    Conv2D(16, (3,3), activation='relu'))\n",
    ")\n",
    "model5.add(BatchNormalization())\n",
    "model5.add(\n",
    "    ConvLSTM2D(8, kernel_size = 3, return_sequences=False)\n",
    ")\n",
    "model5.add(BatchNormalization())\n",
    "model5.add(TimeDistributed(\n",
    "    Dense(64, activation='relu'))\n",
    ")\n",
    "model5.add(BatchNormalization())\n",
    "model5.add(GlobalAveragePooling2D())\n",
    "model5.add(Dense(64, activation='relu'))\n",
    "model5.add(Dense(5, activation='softmax'))"
   ]
  },
  {
   "cell_type": "markdown",
   "metadata": {
    "id": "hbAwqM23zmJP"
   },
   "source": [
    "Now that you have written the model, the next step is to `compile` the model. When you print the `summary` of the model, you'll see the total number of parameters you have to train."
   ]
  },
  {
   "cell_type": "code",
   "execution_count": 57,
   "metadata": {
    "colab": {
     "base_uri": "https://localhost:8080/"
    },
    "id": "I88Zz0kLzmJP",
    "outputId": "be721340-bea4-4b15-d6d6-1c9b185a04b0",
    "scrolled": true
   },
   "outputs": [
    {
     "name": "stdout",
     "output_type": "stream",
     "text": [
      "Model: \"sequential_9\"\n",
      "_________________________________________________________________\n",
      " Layer (type)                Output Shape              Param #   \n",
      "=================================================================\n",
      " time_distributed_5 (TimeDis  (None, 14, 118, 118, 8)  224       \n",
      " tributed)                                                       \n",
      "                                                                 \n",
      " batch_normalization_20 (Bat  (None, 14, 118, 118, 8)  32        \n",
      " chNormalization)                                                \n",
      "                                                                 \n",
      " time_distributed_6 (TimeDis  (None, 14, 116, 116, 16)  1168     \n",
      " tributed)                                                       \n",
      "                                                                 \n",
      " batch_normalization_21 (Bat  (None, 14, 116, 116, 16)  64       \n",
      " chNormalization)                                                \n",
      "                                                                 \n",
      " conv_lstm2d_1 (ConvLSTM2D)  (None, 114, 114, 8)       6944      \n",
      "                                                                 \n",
      " batch_normalization_22 (Bat  (None, 114, 114, 8)      32        \n",
      " chNormalization)                                                \n",
      "                                                                 \n",
      " time_distributed_7 (TimeDis  (None, 114, 114, 64)     576       \n",
      " tributed)                                                       \n",
      "                                                                 \n",
      " batch_normalization_23 (Bat  (None, 114, 114, 64)     256       \n",
      " chNormalization)                                                \n",
      "                                                                 \n",
      " global_average_pooling2d (G  (None, 64)               0         \n",
      " lobalAveragePooling2D)                                          \n",
      "                                                                 \n",
      " dense_12 (Dense)            (None, 64)                4160      \n",
      "                                                                 \n",
      " dense_13 (Dense)            (None, 5)                 325       \n",
      "                                                                 \n",
      "=================================================================\n",
      "Total params: 13,781\n",
      "Trainable params: 13,589\n",
      "Non-trainable params: 192\n",
      "_________________________________________________________________\n",
      "None\n"
     ]
    }
   ],
   "source": [
    "model = model5 #Reference the model being created\n",
    "optimiser = tf.keras.optimizers.Adam(lr=0.01) #write your optimizer\n",
    "model.compile(optimizer=optimiser, loss='categorical_crossentropy', metrics=['categorical_accuracy'])\n",
    "print (model.summary())"
   ]
  },
  {
   "cell_type": "markdown",
   "metadata": {
    "id": "Mi6BcUR6zmJQ"
   },
   "source": [
    "Let us create the `train_generator` and the `val_generator` which will be used in `.fit_generator`."
   ]
  },
  {
   "cell_type": "code",
   "execution_count": 58,
   "metadata": {
    "id": "GB4hha9szmJQ"
   },
   "outputs": [],
   "source": [
    "train_generator = generator(train_path, train_doc, batch_size)\n",
    "val_generator = generator(val_path, val_doc, batch_size)"
   ]
  },
  {
   "cell_type": "code",
   "execution_count": 59,
   "metadata": {
    "id": "cpu-Nx0OzmJQ"
   },
   "outputs": [],
   "source": [
    "model_name = 'model_init' + '_' + str(curr_dt_time).replace(' ','').replace(':','_') + '/'\n",
    "\n",
    "if not os.path.exists(model_name):\n",
    "    os.mkdir(model_name)\n",
    "\n",
    "filepath = model_name + 'model-{epoch:05d}-{loss:.5f}-{categorical_accuracy:.5f}-{val_loss:.5f}-{val_categorical_accuracy:.5f}.h5'\n",
    "\n",
    "checkpoint = ModelCheckpoint(filepath, monitor='val_loss', verbose=1, save_best_only=False, save_weights_only=False, mode='auto', save_freq='epoch')\n",
    "\n",
    "LR = ReduceLROnPlateau(monitor='val_loss', factor=0.2, patience=5, min_lr=0.001, verbose=1) # write the REducelronplateau code here\n",
    "callbacks_list = [checkpoint, LR]"
   ]
  },
  {
   "cell_type": "markdown",
   "metadata": {
    "id": "STE5hqWIzmJR"
   },
   "source": [
    "The `steps_per_epoch` and `validation_steps` are used by `fit_generator` to decide the number of next() calls it need to make."
   ]
  },
  {
   "cell_type": "code",
   "execution_count": 60,
   "metadata": {
    "id": "WszuSU93zmJS"
   },
   "outputs": [],
   "source": [
    "if (num_train_sequences%batch_size) == 0:\n",
    "    steps_per_epoch = int(num_train_sequences/batch_size)\n",
    "else:\n",
    "    steps_per_epoch = (num_train_sequences//batch_size) + 1\n",
    "\n",
    "if (num_val_sequences%batch_size) == 0:\n",
    "    validation_steps = int(num_val_sequences/batch_size)\n",
    "else:\n",
    "    validation_steps = (num_val_sequences//batch_size) + 1"
   ]
  },
  {
   "cell_type": "markdown",
   "metadata": {
    "id": "X2w9vhJEzmJS"
   },
   "source": [
    "Let us now fit the model. This will start training the model and with the help of the checkpoints, you'll be able to save the model at the end of each epoch."
   ]
  },
  {
   "cell_type": "code",
   "execution_count": 61,
   "metadata": {
    "colab": {
     "base_uri": "https://localhost:8080/",
     "height": 397
    },
    "id": "eklCq4S1zmJS",
    "outputId": "219067dc-850d-4ed5-d32b-dc86da78eb8a"
   },
   "outputs": [
    {
     "name": "stdout",
     "output_type": "stream",
     "text": [
      "Source path =  datasets/Project_data/train ; batch size = 50\n",
      "Epoch 1/50\n",
      "14/14 [==============================] - ETA: 0s - loss: 1.4043 - categorical_accuracy: 0.3443Source path =  datasets/Project_data/val ; batch size = 50\n",
      "\n",
      "Epoch 00001: saving model to model_init_2023-06-2917_42_04.117924/model-00001-1.40431-0.34429-2.32928-0.23000.h5\n",
      "14/14 [==============================] - 26s 2s/step - loss: 1.4043 - categorical_accuracy: 0.3443 - val_loss: 2.3293 - val_categorical_accuracy: 0.2300 - lr: 0.0100\n",
      "Epoch 2/50\n",
      "14/14 [==============================] - ETA: 0s - loss: 1.0541 - categorical_accuracy: 0.5171\n",
      "Epoch 00002: saving model to model_init_2023-06-2917_42_04.117924/model-00002-1.05415-0.51714-2.65623-0.25000.h5\n",
      "14/14 [==============================] - 23s 2s/step - loss: 1.0541 - categorical_accuracy: 0.5171 - val_loss: 2.6562 - val_categorical_accuracy: 0.2500 - lr: 0.0100\n",
      "Epoch 3/50\n",
      "14/14 [==============================] - ETA: 0s - loss: 0.9594 - categorical_accuracy: 0.5729\n",
      "Epoch 00003: saving model to model_init_2023-06-2917_42_04.117924/model-00003-0.95939-0.57286-1.98324-0.23000.h5\n",
      "14/14 [==============================] - 23s 2s/step - loss: 0.9594 - categorical_accuracy: 0.5729 - val_loss: 1.9832 - val_categorical_accuracy: 0.2300 - lr: 0.0100\n",
      "Epoch 4/50\n",
      "14/14 [==============================] - ETA: 0s - loss: 0.8589 - categorical_accuracy: 0.6500\n",
      "Epoch 00004: saving model to model_init_2023-06-2917_42_04.117924/model-00004-0.85891-0.65000-2.54648-0.19000.h5\n",
      "14/14 [==============================] - 22s 2s/step - loss: 0.8589 - categorical_accuracy: 0.6500 - val_loss: 2.5465 - val_categorical_accuracy: 0.1900 - lr: 0.0100\n",
      "Epoch 5/50\n",
      "14/14 [==============================] - ETA: 0s - loss: 0.7180 - categorical_accuracy: 0.7014\n",
      "Epoch 00005: saving model to model_init_2023-06-2917_42_04.117924/model-00005-0.71796-0.70143-3.00946-0.17000.h5\n",
      "14/14 [==============================] - 23s 2s/step - loss: 0.7180 - categorical_accuracy: 0.7014 - val_loss: 3.0095 - val_categorical_accuracy: 0.1700 - lr: 0.0100\n",
      "Epoch 6/50\n",
      "14/14 [==============================] - ETA: 0s - loss: 0.6734 - categorical_accuracy: 0.7143\n",
      "Epoch 00006: saving model to model_init_2023-06-2917_42_04.117924/model-00006-0.67338-0.71429-3.00885-0.25000.h5\n",
      "14/14 [==============================] - 22s 2s/step - loss: 0.6734 - categorical_accuracy: 0.7143 - val_loss: 3.0089 - val_categorical_accuracy: 0.2500 - lr: 0.0100\n",
      "Epoch 7/50\n",
      "14/14 [==============================] - ETA: 0s - loss: 0.7051 - categorical_accuracy: 0.7186\n",
      "Epoch 00007: saving model to model_init_2023-06-2917_42_04.117924/model-00007-0.70514-0.71857-1.74597-0.35000.h5\n",
      "14/14 [==============================] - 23s 2s/step - loss: 0.7051 - categorical_accuracy: 0.7186 - val_loss: 1.7460 - val_categorical_accuracy: 0.3500 - lr: 0.0100\n",
      "Epoch 8/50\n",
      "14/14 [==============================] - ETA: 0s - loss: 0.5618 - categorical_accuracy: 0.7786\n",
      "Epoch 00008: saving model to model_init_2023-06-2917_42_04.117924/model-00008-0.56183-0.77857-2.26037-0.22000.h5\n",
      "14/14 [==============================] - 23s 2s/step - loss: 0.5618 - categorical_accuracy: 0.7786 - val_loss: 2.2604 - val_categorical_accuracy: 0.2200 - lr: 0.0100\n",
      "Epoch 9/50\n",
      "14/14 [==============================] - ETA: 0s - loss: 0.4943 - categorical_accuracy: 0.7857\n",
      "Epoch 00009: saving model to model_init_2023-06-2917_42_04.117924/model-00009-0.49428-0.78571-3.98477-0.18000.h5\n",
      "14/14 [==============================] - 23s 2s/step - loss: 0.4943 - categorical_accuracy: 0.7857 - val_loss: 3.9848 - val_categorical_accuracy: 0.1800 - lr: 0.0100\n",
      "Epoch 10/50\n",
      "14/14 [==============================] - ETA: 0s - loss: 0.4098 - categorical_accuracy: 0.8457\n",
      "Epoch 00010: saving model to model_init_2023-06-2917_42_04.117924/model-00010-0.40977-0.84571-5.35911-0.21000.h5\n",
      "14/14 [==============================] - 22s 2s/step - loss: 0.4098 - categorical_accuracy: 0.8457 - val_loss: 5.3591 - val_categorical_accuracy: 0.2100 - lr: 0.0100\n",
      "Epoch 11/50\n",
      "14/14 [==============================] - ETA: 0s - loss: 0.3236 - categorical_accuracy: 0.8900\n",
      "Epoch 00011: saving model to model_init_2023-06-2917_42_04.117924/model-00011-0.32365-0.89000-3.86917-0.18000.h5\n",
      "14/14 [==============================] - 23s 2s/step - loss: 0.3236 - categorical_accuracy: 0.8900 - val_loss: 3.8692 - val_categorical_accuracy: 0.1800 - lr: 0.0100\n",
      "Epoch 12/50\n",
      "14/14 [==============================] - ETA: 0s - loss: 0.3034 - categorical_accuracy: 0.8829\n",
      "Epoch 00012: saving model to model_init_2023-06-2917_42_04.117924/model-00012-0.30336-0.88286-10.57133-0.19000.h5\n",
      "\n",
      "Epoch 00012: ReduceLROnPlateau reducing learning rate to 0.0019999999552965165.\n",
      "14/14 [==============================] - 23s 2s/step - loss: 0.3034 - categorical_accuracy: 0.8829 - val_loss: 10.5713 - val_categorical_accuracy: 0.1900 - lr: 0.0100\n",
      "Epoch 13/50\n",
      "14/14 [==============================] - ETA: 0s - loss: 0.3006 - categorical_accuracy: 0.8914\n",
      "Epoch 00013: saving model to model_init_2023-06-2917_42_04.117924/model-00013-0.30059-0.89143-7.57126-0.18000.h5\n",
      "14/14 [==============================] - 23s 2s/step - loss: 0.3006 - categorical_accuracy: 0.8914 - val_loss: 7.5713 - val_categorical_accuracy: 0.1800 - lr: 0.0020\n",
      "Epoch 14/50\n",
      "14/14 [==============================] - ETA: 0s - loss: 0.2589 - categorical_accuracy: 0.8871\n",
      "Epoch 00014: saving model to model_init_2023-06-2917_42_04.117924/model-00014-0.25888-0.88714-3.40700-0.22000.h5\n",
      "14/14 [==============================] - 22s 2s/step - loss: 0.2589 - categorical_accuracy: 0.8871 - val_loss: 3.4070 - val_categorical_accuracy: 0.2200 - lr: 0.0020\n",
      "Epoch 15/50\n",
      "14/14 [==============================] - ETA: 0s - loss: 0.2211 - categorical_accuracy: 0.9171\n",
      "Epoch 00015: saving model to model_init_2023-06-2917_42_04.117924/model-00015-0.22105-0.91714-4.33486-0.23000.h5\n",
      "14/14 [==============================] - 23s 2s/step - loss: 0.2211 - categorical_accuracy: 0.9171 - val_loss: 4.3349 - val_categorical_accuracy: 0.2300 - lr: 0.0020\n",
      "Epoch 16/50\n",
      "14/14 [==============================] - ETA: 0s - loss: 0.1755 - categorical_accuracy: 0.9386\n",
      "Epoch 00016: saving model to model_init_2023-06-2917_42_04.117924/model-00016-0.17546-0.93857-2.74395-0.29000.h5\n",
      "14/14 [==============================] - 23s 2s/step - loss: 0.1755 - categorical_accuracy: 0.9386 - val_loss: 2.7439 - val_categorical_accuracy: 0.2900 - lr: 0.0020\n",
      "Epoch 17/50\n",
      "14/14 [==============================] - ETA: 0s - loss: 0.1882 - categorical_accuracy: 0.9314\n",
      "Epoch 00017: saving model to model_init_2023-06-2917_42_04.117924/model-00017-0.18819-0.93143-2.15081-0.36000.h5\n",
      "\n",
      "Epoch 00017: ReduceLROnPlateau reducing learning rate to 0.001.\n",
      "14/14 [==============================] - 22s 2s/step - loss: 0.1882 - categorical_accuracy: 0.9314 - val_loss: 2.1508 - val_categorical_accuracy: 0.3600 - lr: 0.0020\n",
      "Epoch 18/50\n",
      "14/14 [==============================] - ETA: 0s - loss: 0.1826 - categorical_accuracy: 0.9314\n",
      "Epoch 00018: saving model to model_init_2023-06-2917_42_04.117924/model-00018-0.18259-0.93143-1.43332-0.52000.h5\n",
      "14/14 [==============================] - 23s 2s/step - loss: 0.1826 - categorical_accuracy: 0.9314 - val_loss: 1.4333 - val_categorical_accuracy: 0.5200 - lr: 0.0010\n",
      "Epoch 19/50\n",
      "14/14 [==============================] - ETA: 0s - loss: 0.1601 - categorical_accuracy: 0.9457\n",
      "Epoch 00019: saving model to model_init_2023-06-2917_42_04.117924/model-00019-0.16013-0.94571-1.28939-0.56000.h5\n",
      "14/14 [==============================] - 23s 2s/step - loss: 0.1601 - categorical_accuracy: 0.9457 - val_loss: 1.2894 - val_categorical_accuracy: 0.5600 - lr: 0.0010\n",
      "Epoch 20/50\n",
      "14/14 [==============================] - ETA: 0s - loss: 0.1723 - categorical_accuracy: 0.9486\n",
      "Epoch 00020: saving model to model_init_2023-06-2917_42_04.117924/model-00020-0.17228-0.94857-0.97711-0.69000.h5\n",
      "14/14 [==============================] - 23s 2s/step - loss: 0.1723 - categorical_accuracy: 0.9486 - val_loss: 0.9771 - val_categorical_accuracy: 0.6900 - lr: 0.0010\n",
      "Epoch 21/50\n",
      "14/14 [==============================] - ETA: 0s - loss: 0.1379 - categorical_accuracy: 0.9457\n",
      "Epoch 00021: saving model to model_init_2023-06-2917_42_04.117924/model-00021-0.13787-0.94571-1.04196-0.63000.h5\n",
      "14/14 [==============================] - 23s 2s/step - loss: 0.1379 - categorical_accuracy: 0.9457 - val_loss: 1.0420 - val_categorical_accuracy: 0.6300 - lr: 0.0010\n",
      "Epoch 22/50\n",
      "14/14 [==============================] - ETA: 0s - loss: 0.1473 - categorical_accuracy: 0.9543\n",
      "Epoch 00022: saving model to model_init_2023-06-2917_42_04.117924/model-00022-0.14731-0.95429-0.84035-0.72000.h5\n",
      "14/14 [==============================] - 23s 2s/step - loss: 0.1473 - categorical_accuracy: 0.9543 - val_loss: 0.8404 - val_categorical_accuracy: 0.7200 - lr: 0.0010\n",
      "Epoch 23/50\n",
      "14/14 [==============================] - ETA: 0s - loss: 0.1191 - categorical_accuracy: 0.9686\n",
      "Epoch 00023: saving model to model_init_2023-06-2917_42_04.117924/model-00023-0.11910-0.96857-0.82211-0.67000.h5\n",
      "14/14 [==============================] - 23s 2s/step - loss: 0.1191 - categorical_accuracy: 0.9686 - val_loss: 0.8221 - val_categorical_accuracy: 0.6700 - lr: 0.0010\n",
      "Epoch 24/50\n",
      "14/14 [==============================] - ETA: 0s - loss: 0.1444 - categorical_accuracy: 0.9514\n",
      "Epoch 00024: saving model to model_init_2023-06-2917_42_04.117924/model-00024-0.14441-0.95143-1.12565-0.62000.h5\n",
      "14/14 [==============================] - 23s 2s/step - loss: 0.1444 - categorical_accuracy: 0.9514 - val_loss: 1.1256 - val_categorical_accuracy: 0.6200 - lr: 0.0010\n",
      "Epoch 25/50\n",
      "14/14 [==============================] - ETA: 0s - loss: 0.1282 - categorical_accuracy: 0.9586\n",
      "Epoch 00025: saving model to model_init_2023-06-2917_42_04.117924/model-00025-0.12823-0.95857-0.75385-0.72000.h5\n",
      "14/14 [==============================] - 22s 2s/step - loss: 0.1282 - categorical_accuracy: 0.9586 - val_loss: 0.7538 - val_categorical_accuracy: 0.7200 - lr: 0.0010\n",
      "Epoch 26/50\n",
      "14/14 [==============================] - ETA: 0s - loss: 0.1247 - categorical_accuracy: 0.9543\n",
      "Epoch 00026: saving model to model_init_2023-06-2917_42_04.117924/model-00026-0.12475-0.95429-0.75160-0.77000.h5\n",
      "14/14 [==============================] - 23s 2s/step - loss: 0.1247 - categorical_accuracy: 0.9543 - val_loss: 0.7516 - val_categorical_accuracy: 0.7700 - lr: 0.0010\n",
      "Epoch 27/50\n",
      "14/14 [==============================] - ETA: 0s - loss: 0.1326 - categorical_accuracy: 0.9500\n",
      "Epoch 00027: saving model to model_init_2023-06-2917_42_04.117924/model-00027-0.13261-0.95000-0.72199-0.75000.h5\n",
      "14/14 [==============================] - 22s 2s/step - loss: 0.1326 - categorical_accuracy: 0.9500 - val_loss: 0.7220 - val_categorical_accuracy: 0.7500 - lr: 0.0010\n",
      "Epoch 28/50\n",
      "14/14 [==============================] - ETA: 0s - loss: 0.1099 - categorical_accuracy: 0.9686\n",
      "Epoch 00028: saving model to model_init_2023-06-2917_42_04.117924/model-00028-0.10985-0.96857-0.65164-0.73000.h5\n",
      "14/14 [==============================] - 23s 2s/step - loss: 0.1099 - categorical_accuracy: 0.9686 - val_loss: 0.6516 - val_categorical_accuracy: 0.7300 - lr: 0.0010\n",
      "Epoch 29/50\n",
      "14/14 [==============================] - ETA: 0s - loss: 0.1352 - categorical_accuracy: 0.9500\n",
      "Epoch 00029: saving model to model_init_2023-06-2917_42_04.117924/model-00029-0.13524-0.95000-0.58171-0.80000.h5\n",
      "14/14 [==============================] - 23s 2s/step - loss: 0.1352 - categorical_accuracy: 0.9500 - val_loss: 0.5817 - val_categorical_accuracy: 0.8000 - lr: 0.0010\n",
      "Epoch 30/50\n",
      "14/14 [==============================] - ETA: 0s - loss: 0.1119 - categorical_accuracy: 0.9686\n",
      "Epoch 00030: saving model to model_init_2023-06-2917_42_04.117924/model-00030-0.11186-0.96857-0.57878-0.81000.h5\n",
      "14/14 [==============================] - 23s 2s/step - loss: 0.1119 - categorical_accuracy: 0.9686 - val_loss: 0.5788 - val_categorical_accuracy: 0.8100 - lr: 0.0010\n",
      "Epoch 31/50\n",
      "14/14 [==============================] - ETA: 0s - loss: 0.1342 - categorical_accuracy: 0.9557\n",
      "Epoch 00031: saving model to model_init_2023-06-2917_42_04.117924/model-00031-0.13415-0.95571-0.42500-0.84000.h5\n",
      "14/14 [==============================] - 22s 2s/step - loss: 0.1342 - categorical_accuracy: 0.9557 - val_loss: 0.4250 - val_categorical_accuracy: 0.8400 - lr: 0.0010\n",
      "Epoch 32/50\n",
      "14/14 [==============================] - ETA: 0s - loss: 0.1234 - categorical_accuracy: 0.9557\n",
      "Epoch 00032: saving model to model_init_2023-06-2917_42_04.117924/model-00032-0.12340-0.95571-0.29628-0.88000.h5\n",
      "14/14 [==============================] - 23s 2s/step - loss: 0.1234 - categorical_accuracy: 0.9557 - val_loss: 0.2963 - val_categorical_accuracy: 0.8800 - lr: 0.0010\n",
      "Epoch 33/50\n",
      "14/14 [==============================] - ETA: 0s - loss: 0.1105 - categorical_accuracy: 0.9657\n",
      "Epoch 00033: saving model to model_init_2023-06-2917_42_04.117924/model-00033-0.11046-0.96571-0.41856-0.87000.h5\n",
      "14/14 [==============================] - 23s 2s/step - loss: 0.1105 - categorical_accuracy: 0.9657 - val_loss: 0.4186 - val_categorical_accuracy: 0.8700 - lr: 0.0010\n",
      "Epoch 34/50\n",
      "14/14 [==============================] - ETA: 0s - loss: 0.1121 - categorical_accuracy: 0.9614\n",
      "Epoch 00034: saving model to model_init_2023-06-2917_42_04.117924/model-00034-0.11213-0.96143-0.47840-0.82000.h5\n",
      "14/14 [==============================] - 23s 2s/step - loss: 0.1121 - categorical_accuracy: 0.9614 - val_loss: 0.4784 - val_categorical_accuracy: 0.8200 - lr: 0.0010\n",
      "Epoch 35/50\n",
      "14/14 [==============================] - ETA: 0s - loss: 0.0868 - categorical_accuracy: 0.9786\n",
      "Epoch 00035: saving model to model_init_2023-06-2917_42_04.117924/model-00035-0.08677-0.97857-0.48005-0.85000.h5\n",
      "14/14 [==============================] - 22s 2s/step - loss: 0.0868 - categorical_accuracy: 0.9786 - val_loss: 0.4801 - val_categorical_accuracy: 0.8500 - lr: 0.0010\n",
      "Epoch 36/50\n",
      "14/14 [==============================] - ETA: 0s - loss: 0.1005 - categorical_accuracy: 0.9686\n",
      "Epoch 00036: saving model to model_init_2023-06-2917_42_04.117924/model-00036-0.10051-0.96857-0.39824-0.87000.h5\n",
      "14/14 [==============================] - 23s 2s/step - loss: 0.1005 - categorical_accuracy: 0.9686 - val_loss: 0.3982 - val_categorical_accuracy: 0.8700 - lr: 0.0010\n",
      "Epoch 37/50\n",
      "14/14 [==============================] - ETA: 0s - loss: 0.0718 - categorical_accuracy: 0.9857\n",
      "Epoch 00037: saving model to model_init_2023-06-2917_42_04.117924/model-00037-0.07178-0.98571-0.32358-0.91000.h5\n",
      "14/14 [==============================] - 23s 2s/step - loss: 0.0718 - categorical_accuracy: 0.9857 - val_loss: 0.3236 - val_categorical_accuracy: 0.9100 - lr: 0.0010\n",
      "Epoch 38/50\n",
      "14/14 [==============================] - ETA: 0s - loss: 0.0936 - categorical_accuracy: 0.9700\n",
      "Epoch 00038: saving model to model_init_2023-06-2917_42_04.117924/model-00038-0.09359-0.97000-0.20537-0.92000.h5\n",
      "14/14 [==============================] - 23s 2s/step - loss: 0.0936 - categorical_accuracy: 0.9700 - val_loss: 0.2054 - val_categorical_accuracy: 0.9200 - lr: 0.0010\n",
      "Epoch 39/50\n",
      "14/14 [==============================] - ETA: 0s - loss: 0.0851 - categorical_accuracy: 0.9771\n",
      "Epoch 00039: saving model to model_init_2023-06-2917_42_04.117924/model-00039-0.08514-0.97714-0.32288-0.89000.h5\n",
      "14/14 [==============================] - 22s 2s/step - loss: 0.0851 - categorical_accuracy: 0.9771 - val_loss: 0.3229 - val_categorical_accuracy: 0.8900 - lr: 0.0010\n",
      "Epoch 40/50\n",
      "14/14 [==============================] - ETA: 0s - loss: 0.0697 - categorical_accuracy: 0.9800\n",
      "Epoch 00040: saving model to model_init_2023-06-2917_42_04.117924/model-00040-0.06973-0.98000-0.24274-0.90000.h5\n",
      "14/14 [==============================] - 23s 2s/step - loss: 0.0697 - categorical_accuracy: 0.9800 - val_loss: 0.2427 - val_categorical_accuracy: 0.9000 - lr: 0.0010\n",
      "Epoch 41/50\n",
      "14/14 [==============================] - ETA: 0s - loss: 0.0722 - categorical_accuracy: 0.9829\n",
      "Epoch 00041: saving model to model_init_2023-06-2917_42_04.117924/model-00041-0.07222-0.98286-0.25380-0.91000.h5\n",
      "14/14 [==============================] - 22s 2s/step - loss: 0.0722 - categorical_accuracy: 0.9829 - val_loss: 0.2538 - val_categorical_accuracy: 0.9100 - lr: 0.0010\n",
      "Epoch 42/50\n",
      "14/14 [==============================] - ETA: 0s - loss: 0.0868 - categorical_accuracy: 0.9771\n",
      "Epoch 00042: saving model to model_init_2023-06-2917_42_04.117924/model-00042-0.08680-0.97714-0.23965-0.90000.h5\n",
      "14/14 [==============================] - 23s 2s/step - loss: 0.0868 - categorical_accuracy: 0.9771 - val_loss: 0.2396 - val_categorical_accuracy: 0.9000 - lr: 0.0010\n",
      "Epoch 43/50\n",
      "14/14 [==============================] - ETA: 0s - loss: 0.0869 - categorical_accuracy: 0.9729\n",
      "Epoch 00043: saving model to model_init_2023-06-2917_42_04.117924/model-00043-0.08689-0.97286-0.36532-0.88000.h5\n",
      "14/14 [==============================] - 22s 2s/step - loss: 0.0869 - categorical_accuracy: 0.9729 - val_loss: 0.3653 - val_categorical_accuracy: 0.8800 - lr: 0.0010\n",
      "Epoch 44/50\n",
      "14/14 [==============================] - ETA: 0s - loss: 0.0748 - categorical_accuracy: 0.9800\n",
      "Epoch 00044: saving model to model_init_2023-06-2917_42_04.117924/model-00044-0.07478-0.98000-0.19344-0.93000.h5\n",
      "14/14 [==============================] - 23s 2s/step - loss: 0.0748 - categorical_accuracy: 0.9800 - val_loss: 0.1934 - val_categorical_accuracy: 0.9300 - lr: 0.0010\n",
      "Epoch 45/50\n",
      "14/14 [==============================] - ETA: 0s - loss: 0.0888 - categorical_accuracy: 0.9657\n",
      "Epoch 00045: saving model to model_init_2023-06-2917_42_04.117924/model-00045-0.08878-0.96571-0.28773-0.89000.h5\n",
      "14/14 [==============================] - 24s 2s/step - loss: 0.0888 - categorical_accuracy: 0.9657 - val_loss: 0.2877 - val_categorical_accuracy: 0.8900 - lr: 0.0010\n",
      "Epoch 46/50\n",
      "14/14 [==============================] - ETA: 0s - loss: 0.0736 - categorical_accuracy: 0.9757\n",
      "Epoch 00046: saving model to model_init_2023-06-2917_42_04.117924/model-00046-0.07363-0.97571-0.29992-0.91000.h5\n",
      "14/14 [==============================] - 22s 2s/step - loss: 0.0736 - categorical_accuracy: 0.9757 - val_loss: 0.2999 - val_categorical_accuracy: 0.9100 - lr: 0.0010\n",
      "Epoch 47/50\n",
      "14/14 [==============================] - ETA: 0s - loss: 0.1085 - categorical_accuracy: 0.9686\n",
      "Epoch 00047: saving model to model_init_2023-06-2917_42_04.117924/model-00047-0.10846-0.96857-0.30528-0.90000.h5\n",
      "14/14 [==============================] - 23s 2s/step - loss: 0.1085 - categorical_accuracy: 0.9686 - val_loss: 0.3053 - val_categorical_accuracy: 0.9000 - lr: 0.0010\n",
      "Epoch 48/50\n",
      "14/14 [==============================] - ETA: 0s - loss: 0.0936 - categorical_accuracy: 0.9700\n",
      "Epoch 00048: saving model to model_init_2023-06-2917_42_04.117924/model-00048-0.09355-0.97000-0.30051-0.91000.h5\n",
      "14/14 [==============================] - 23s 2s/step - loss: 0.0936 - categorical_accuracy: 0.9700 - val_loss: 0.3005 - val_categorical_accuracy: 0.9100 - lr: 0.0010\n",
      "Epoch 49/50\n",
      "14/14 [==============================] - ETA: 0s - loss: 0.0875 - categorical_accuracy: 0.9714\n",
      "Epoch 00049: saving model to model_init_2023-06-2917_42_04.117924/model-00049-0.08751-0.97143-0.26871-0.91000.h5\n",
      "14/14 [==============================] - 23s 2s/step - loss: 0.0875 - categorical_accuracy: 0.9714 - val_loss: 0.2687 - val_categorical_accuracy: 0.9100 - lr: 0.0010\n",
      "Epoch 50/50\n",
      "14/14 [==============================] - ETA: 0s - loss: 0.0704 - categorical_accuracy: 0.9800\n",
      "Epoch 00050: saving model to model_init_2023-06-2917_42_04.117924/model-00050-0.07041-0.98000-0.31494-0.92000.h5\n",
      "14/14 [==============================] - 23s 2s/step - loss: 0.0704 - categorical_accuracy: 0.9800 - val_loss: 0.3149 - val_categorical_accuracy: 0.9200 - lr: 0.0010\n"
     ]
    },
    {
     "data": {
      "text/plain": [
       "<keras.callbacks.History at 0x7f57bc60d1f0>"
      ]
     },
     "execution_count": 61,
     "metadata": {},
     "output_type": "execute_result"
    }
   ],
   "source": [
    "model.fit_generator(train_generator, steps_per_epoch=steps_per_epoch, epochs=num_epochs, verbose=1,\n",
    "                    callbacks=callbacks_list, validation_data=val_generator,\n",
    "                    validation_steps=validation_steps, class_weight=None, workers=1, initial_epoch=0)"
   ]
  },
  {
   "cell_type": "code",
   "execution_count": null,
   "metadata": {
    "id": "dLTgIZG1pMap"
   },
   "outputs": [],
   "source": []
  }
 ],
 "metadata": {
  "colab": {
   "provenance": []
  },
  "kernelspec": {
   "display_name": "Python 3 (ipykernel)",
   "language": "python",
   "name": "python3"
  },
  "language_info": {
   "codemirror_mode": {
    "name": "ipython",
    "version": 3
   },
   "file_extension": ".py",
   "mimetype": "text/x-python",
   "name": "python",
   "nbconvert_exporter": "python",
   "pygments_lexer": "ipython3",
   "version": "3.8.10"
  }
 },
 "nbformat": 4,
 "nbformat_minor": 4
}
